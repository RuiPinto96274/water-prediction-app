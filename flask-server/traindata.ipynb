version https://git-lfs.github.com/spec/v1
oid sha256:1c43c27f9c5cbae38c3e1c5386d9e5c4abf76a05f095b01c36708f05be890653
size 187573
