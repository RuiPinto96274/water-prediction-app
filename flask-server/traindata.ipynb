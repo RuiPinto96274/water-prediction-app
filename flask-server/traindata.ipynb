version https://git-lfs.github.com/spec/v1
oid sha256:81ffa787ea2f5b5b7c53c8a0060589e54d689204d7a262a65412b38ff8dcaf9e
size 184654
