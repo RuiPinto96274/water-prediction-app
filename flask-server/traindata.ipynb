version https://git-lfs.github.com/spec/v1
oid sha256:eb2e6fe30c426eaaf82ec10c4e0bf665ed21054e16d329d9b8e9a54422fadbef
size 187084
